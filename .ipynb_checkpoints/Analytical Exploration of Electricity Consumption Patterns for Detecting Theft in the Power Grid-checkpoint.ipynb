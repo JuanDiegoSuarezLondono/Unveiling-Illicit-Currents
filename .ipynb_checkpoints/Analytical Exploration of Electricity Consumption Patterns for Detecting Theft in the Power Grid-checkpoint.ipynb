{
 "cells": [
  {
   "cell_type": "markdown",
   "id": "d2a175a0",
   "metadata": {},
   "source": [
    "# Set up the selected model"
   ]
  },
  {
   "cell_type": "code",
   "execution_count": 31,
   "id": "d520f7cb",
   "metadata": {},
   "outputs": [],
   "source": [
    "# Import the necessary libraries\n",
    "import pandas as pd\n",
    "import numpy as np\n",
    "import seaborn as sns\n",
    "import matplotlib.pyplot as plt\n",
    "from sklearn.impute import KNNImputer\n",
    "from sklearn.model_selection import train_test_split,GridSearchCV, cross_val_score\n",
    "from sklearn.ensemble import RandomForestClassifier, GradientBoostingClassifier\n",
    "from sklearn.linear_model import LogisticRegression\n",
    "from sklearn.tree import DecisionTreeClassifier, plot_tree\n",
    "from sklearn.metrics import accuracy_score, classification_report, confusion_matrix, ConfusionMatrixDisplay, make_scorer\n",
    "from sklearn.neighbors import KNeighborsClassifier\n",
    "from sklearn.neural_network import MLPClassifier\n",
    "from sklearn.svm import SVC\n",
    "from imblearn.over_sampling import SMOTE\n",
    "from xgboost import XGBClassifier\n",
    "from tabulate import tabulate"
   ]
  },
  {
   "cell_type": "code",
   "execution_count": 2,
   "id": "017c90ff",
   "metadata": {},
   "outputs": [],
   "source": [
    "# Load the dataset\n",
    "df = pd.read_csv(\"Data/data set.csv\")"
   ]
  },
  {
   "cell_type": "markdown",
   "id": "1efd79c7",
   "metadata": {},
   "source": [
    "## Rebuilding the model\n",
    "Se vuelve a contruir el modelo segun los resultados de la evaluacion de varias alternativas\n",
    "\n",
    "### Data treatment\n",
    "The data is treated in the same way as it was done in the model evaluation document"
   ]
  },
  {
   "cell_type": "code",
   "execution_count": 3,
   "id": "41177820",
   "metadata": {},
   "outputs": [],
   "source": [
    "# Load a copy of the dataset\n",
    "df_index = df.copy()\n",
    "\n",
    "# Delete columns\n",
    "df_index.drop(['CONS_NO','10/3/2014'],axis=1,inplace=True)"
   ]
  },
  {
   "cell_type": "code",
   "execution_count": 4,
   "id": "565a5a67",
   "metadata": {},
   "outputs": [],
   "source": [
    "# Remove data from the majority class (FLAG = 0)\n",
    "df_clean = df_index.copy()\n",
    "df_minority = df_clean[df_clean['FLAG'] == 1]\n",
    "df_majority = df_clean[df_clean['FLAG'] == 0].sample(len(df_minority))\n",
    "df_undersampling = pd.concat([df_minority, df_majority]).reset_index()"
   ]
  },
  {
   "cell_type": "code",
   "execution_count": 5,
   "id": "33c43878",
   "metadata": {},
   "outputs": [],
   "source": [
    "# Load a copy of the dataset\n",
    "df_index = df_undersampling.copy()"
   ]
  },
  {
   "cell_type": "code",
   "execution_count": 6,
   "id": "e70f8b0f",
   "metadata": {},
   "outputs": [],
   "source": [
    "# Delete columns\n",
    "df_index.drop(['index'],axis=1,inplace=True)"
   ]
  },
  {
   "cell_type": "code",
   "execution_count": 7,
   "id": "e9f9c7e7",
   "metadata": {},
   "outputs": [],
   "source": [
    "# Load a copy of the dataset\n",
    "df_filtered = df_index.copy()"
   ]
  },
  {
   "cell_type": "code",
   "execution_count": 8,
   "id": "9ee2c6bd",
   "metadata": {},
   "outputs": [],
   "source": [
    "# Drop the target column that has no null values to perform imputation\n",
    "df_filtered.drop(['FLAG'],axis=1,inplace=True)"
   ]
  },
  {
   "cell_type": "code",
   "execution_count": 9,
   "id": "9e76554c",
   "metadata": {},
   "outputs": [
    {
     "data": {
      "text/plain": [
       "(7230, 1033)"
      ]
     },
     "execution_count": 9,
     "metadata": {},
     "output_type": "execute_result"
    }
   ],
   "source": [
    "# Impute the data with respect to 5 neighbors\n",
    "imputer = KNNImputer(n_neighbors=5)\n",
    "imputed = imputer.fit_transform(df_filtered)\n",
    "imputed.shape"
   ]
  },
  {
   "cell_type": "code",
   "execution_count": 10,
   "id": "4607e658",
   "metadata": {},
   "outputs": [],
   "source": [
    "# Create a new dataset with the imputed data\n",
    "df_imputed = pd.DataFrame(imputed, columns=df_filtered.columns)"
   ]
  },
  {
   "cell_type": "code",
   "execution_count": 11,
   "id": "b205c5e3",
   "metadata": {},
   "outputs": [],
   "source": [
    "# Copy of the inputed dataset\n",
    "df_low = df_imputed.copy()"
   ]
  },
  {
   "cell_type": "code",
   "execution_count": 12,
   "id": "f011517a",
   "metadata": {},
   "outputs": [],
   "source": [
    "# Add the FLAG column again\n",
    "df_low['FLAG'] = df_undersampling['FLAG']"
   ]
  },
  {
   "cell_type": "markdown",
   "id": "40ef987f",
   "metadata": {},
   "source": [
    "### Split the data\n",
    "We split the subdata into training and testing sets to feed the model"
   ]
  },
  {
   "cell_type": "code",
   "execution_count": 13,
   "id": "f00c0c8e",
   "metadata": {},
   "outputs": [],
   "source": [
    "# Splitting the data from the label\n",
    "X = df_low.drop(['FLAG'], axis=1)\n",
    "y = df_low['FLAG']"
   ]
  },
  {
   "cell_type": "code",
   "execution_count": 14,
   "id": "a65b1d12",
   "metadata": {},
   "outputs": [],
   "source": [
    "# Splitting the training data from the testing data\n",
    "X_train, X_test, y_train, y_test = train_test_split(X, y, test_size=0.2, random_state=42)"
   ]
  },
  {
   "cell_type": "markdown",
   "id": "932272ab",
   "metadata": {},
   "source": [
    "### Model creation\n",
    "\"Here, the model that performed the best is created, that is, Gradient Boosting with the hyperparameters: 'n_estimators': [50],'max_depth': [5],'min_samples_split': [2]"
   ]
  },
  {
   "cell_type": "code",
   "execution_count": 16,
   "id": "8d4ef6ab",
   "metadata": {},
   "outputs": [],
   "source": [
    "# Initialize a Gradient Boosting\n",
    "gb = GradientBoostingClassifier(random_state=42)\n",
    "\n",
    "# Define the parameter grid to explore\n",
    "param_grid = {'n_estimators': [50],'max_depth': [5],'min_samples_split': [2]}\n",
    "\n",
    "# Initialize the GridSearchCV object for Gradient Boosting\n",
    "grid_search_gb = GridSearchCV(estimator=gb, param_grid=param_grid, scoring='recall', cv=3, n_jobs=-1)\n",
    "\n",
    "# Fit the model to the training data\n",
    "grid_search_gb.fit(X_train, y_train)"
   ]
  },
  {
   "cell_type": "markdown",
   "id": "9ee452d5",
   "metadata": {},
   "source": [
    "## Testing the model with the entire dataset\n",
    "To evaluate the overall performance of the model, it is assessed with the entire dataset\n",
    "\n",
    "### Data treatment\n",
    "For this data treatment, the only thing done is to perform imputation of the null values in the dataset"
   ]
  },
  {
   "cell_type": "code",
   "execution_count": 21,
   "id": "258de943",
   "metadata": {
    "scrolled": true
   },
   "outputs": [],
   "source": [
    "# Load a copy of the dataset\n",
    "df_full = df_clean.copy()\n",
    "\n",
    "# Delete columns\n",
    "df_full.drop(['FLAG'],axis=1,inplace=True)"
   ]
  },
  {
   "cell_type": "code",
   "execution_count": 22,
   "id": "1ace88e7",
   "metadata": {},
   "outputs": [
    {
     "data": {
      "text/plain": [
       "(42372, 1033)"
      ]
     },
     "execution_count": 22,
     "metadata": {},
     "output_type": "execute_result"
    }
   ],
   "source": [
    "# Impute the data with respect to 5 neighbors\n",
    "imputer_full = KNNImputer(n_neighbors=5)\n",
    "imputed_full = imputer_full.fit_transform(df_full)\n",
    "imputed_full.shape"
   ]
  },
  {
   "cell_type": "code",
   "execution_count": 23,
   "id": "4acdaf05",
   "metadata": {},
   "outputs": [],
   "source": [
    "# Create a new dataset with the imputed data\n",
    "df_imputed_full = pd.DataFrame(imputed_full, columns=df_full.columns)"
   ]
  },
  {
   "cell_type": "code",
   "execution_count": 24,
   "id": "c3f4b9d3",
   "metadata": {},
   "outputs": [],
   "source": [
    "# Copy of the inputed dataset\n",
    "df_index_full = df_imputed_full.copy()"
   ]
  },
  {
   "cell_type": "code",
   "execution_count": 25,
   "id": "28ea6742",
   "metadata": {},
   "outputs": [],
   "source": [
    "# Add the FLAG column again\n",
    "df_index_full['FLAG'] = df_clean['FLAG']"
   ]
  },
  {
   "cell_type": "code",
   "execution_count": 26,
   "id": "f1fbd1fc",
   "metadata": {},
   "outputs": [],
   "source": [
    "# Splitting the data from the label\n",
    "X_full = df_index_full.drop(['FLAG'], axis=1)\n",
    "y_full = df_index_full['FLAG']"
   ]
  },
  {
   "cell_type": "markdown",
   "id": "edc8e96a",
   "metadata": {},
   "source": [
    "### Evaluate the model\n",
    "Finally, we make predictions for the entire dataset and evaluate the results according to the target column"
   ]
  },
  {
   "cell_type": "code",
   "execution_count": 36,
   "id": "cdd3195f",
   "metadata": {
    "scrolled": false
   },
   "outputs": [],
   "source": [
    "# We make predictions for the entire dataset\n",
    "y_pred_gb = grid_search_gb.predict(X_full)"
   ]
  },
  {
   "cell_type": "code",
   "execution_count": 37,
   "id": "7bf5b520",
   "metadata": {
    "scrolled": true
   },
   "outputs": [
    {
     "name": "stdout",
     "output_type": "stream",
     "text": [
      "Accuracy (Gradient Boosting): 0.80\n",
      "Classification Report (Gradient Boosting):\n",
      "              precision    recall  f1-score   support\n",
      "\n",
      "           0       0.97      0.81      0.88     38757\n",
      "           1       0.26      0.72      0.38      3615\n",
      "\n",
      "    accuracy                           0.80     42372\n",
      "   macro avg       0.61      0.76      0.63     42372\n",
      "weighted avg       0.91      0.80      0.84     42372\n",
      "\n"
     ]
    }
   ],
   "source": [
    "# Evaluate the performance of the Gradient Boosting model with the best parameters\n",
    "accuracy_best_gb = accuracy_score(y_full, y_pred_gb)\n",
    "\n",
    "# Visualize the confusion matrix\n",
    "print(f\"Accuracy (Gradient Boosting): {accuracy_best_gb:.2f}\")\n",
    "print(\"Classification Report (Gradient Boosting):\")\n",
    "print(classification_report(y_full, y_pred_gb))"
   ]
  },
  {
   "cell_type": "code",
   "execution_count": 38,
   "id": "c0805c5a",
   "metadata": {},
   "outputs": [
    {
     "data": {
      "image/png": "[encoded data removed]",
      "text/plain": [
       "<Figure size 640x480 with 2 Axes>"
      ]
     },
     "metadata": {},
     "output_type": "display_data"
    }
   ],
   "source": [
    "# Create the confusion matrix\n",
    "cm_gb = confusion_matrix(y_full, y_pred_gb)\n",
    "\n",
    "# Visualize the confusion matrix\n",
    "disp_dt = ConfusionMatrixDisplay(confusion_matrix=cm_gb, display_labels=grid_search_gb.classes_)\n",
    "disp_dt.plot(cmap='plasma')\n",
    "plt.title('Confusion Matrix - Gradient Boosting')\n",
    "plt.show()"
   ]
  },
  {
   "cell_type": "markdown",
   "id": "e77b2129",
   "metadata": {},
   "source": [
    "### Conclusion\n",
    "\n",
    "- **Accuracy:** The model achieves an overall accuracy of 80%, indicating that 80% of the predictions are correct.\n",
    "- **Precision:** For class 0 (non-theft), the precision is high (97%), suggesting that when the model predicts a non-theft instance, it is likely correct.\n",
    "- **Recall (Sensitivity):** The recall for class 0 is 81%, meaning that the model correctly identifies 81% of non-theft instances. The recall for class 1 is 72%, suggesting that the model captures 72% of theft instances.\n",
    "- **F1-Score:** The F1-score, which considers both precision and recall, is higher for class 0 (88%) compared to class 1 (38%).\n",
    "\n",
    "### Overall Interpretation:\n",
    "\n",
    "- The model shows a good ability to predict non-theft instances (class 0) with high precision and recall.\n",
    "- However, the performance is poorer for predicting theft instances (class 1), as indicated by the lower precision and F1-score."
   ]
  },
  {
   "cell_type": "markdown",
   "id": "38b7b57c",
   "metadata": {},
   "source": [
    "## Future Work\n",
    "\n",
    "An intriguing observation reveals that addressing data imbalance with Undersampling instead of SMOTE (Synthetic Minority Over-sampling Technique) made a significant difference in the project's performance. Exploring alternative techniques to balance these imbalanced datasets would be worthwhile. Additionally, the dataset exhibits considerable variability in null values. Reducing the quantity of null data and imputing it with nearest neighbors significantly improved the model's performance. Considering alternative approaches, such as setting null values to zero, might also yield improved results.\n",
    "\n",
    "## Next steps and recommendations\n",
    "\n",
    "To delve deeper into this observation, several approaches can be taken. Firstly, investigating the origin of the numerous data gaps from the electric grid is essential. Null values may be attributed to various factors, such as a user recently joining the electric grid (resulting in no previous records), power outages, disconnections due to non-payment, etc. Handling these null values more delicately is crucial, as they significantly influence each user's consumption behavior. Additionally, another avenue to explore involves dividing the data into segments corresponding to electrical cutoff cycles, allowing for a more nuanced analysis of consumption patterns, alongside considering factors like billing cost and market electricity prices."
   ]
  }
 ],
 "metadata": {
  "kernelspec": {
   "display_name": "Python 3 (ipykernel)",
   "language": "python",
   "name": "python3"
  },
  "language_info": {
   "codemirror_mode": {
    "name": "ipython",
    "version": 3
   },
   "file_extension": ".py",
   "mimetype": "text/x-python",
   "name": "python",
   "nbconvert_exporter": "python",
   "pygments_lexer": "ipython3",
   "version": "3.10.9"
  }
 },
 "nbformat": 4,
 "nbformat_minor": 5
}
