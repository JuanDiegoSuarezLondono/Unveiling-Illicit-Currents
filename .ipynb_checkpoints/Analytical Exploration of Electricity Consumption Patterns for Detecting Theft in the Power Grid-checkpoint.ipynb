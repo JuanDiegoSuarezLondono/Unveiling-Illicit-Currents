{
 "cells": [
  {
   "cell_type": "code",
   "execution_count": null,
   "id": "75a4a1f7",
   "metadata": {},
   "outputs": [],
   "source": [
    "# Import the necessary libraries\n",
    "import pandas as pd\n",
    "import numpy as np\n",
    "import seaborn as sns\n",
    "import matplotlib.pyplot as plt\n",
    "from sklearn.impute import KNNImputer\n",
    "from sklearn.model_selection import train_test_split,GridSearchCV, cross_val_score\n",
    "from sklearn.ensemble import RandomForestClassifier, GradientBoostingClassifier\n",
    "from sklearn.linear_model import LogisticRegression\n",
    "from sklearn.tree import DecisionTreeClassifier, plot_tree\n",
    "from sklearn.metrics import accuracy_score, classification_report, confusion_matrix, ConfusionMatrixDisplay, make_scorer\n",
    "from sklearn.neighbors import KNeighborsClassifier\n",
    "from sklearn.neural_network import MLPClassifier\n",
    "from sklearn.svm import SVC\n",
    "from imblearn.over_sampling import SMOTE\n",
    "from xgboost import XGBClassifier\n",
    "from tabulate import tabulate"
   ]
  },
  {
   "cell_type": "code",
   "execution_count": null,
   "id": "32d7d949",
   "metadata": {},
   "outputs": [],
   "source": [
    "# Load the dataset\n",
    "df = pd.read_csv(\"Data/data set.csv\")"
   ]
  },
  {
   "cell_type": "code",
   "execution_count": null,
   "id": "d0f5a429",
   "metadata": {},
   "outputs": [],
   "source": [
    "# Load a copy of the dataset\n",
    "df_index = df.copy()\n",
    "\n",
    "# Delete columns\n",
    "df_index.drop(['CONS_NO','10/3/2014'],axis=1,inplace=True)"
   ]
  },
  {
   "cell_type": "code",
   "execution_count": null,
   "id": "67eea45e",
   "metadata": {},
   "outputs": [],
   "source": [
    "# Remove data from the majority class (FLAG = 0)\n",
    "df_clean = df_index.copy()\n",
    "df_minority = df_clean[df_clean['FLAG'] == 1]\n",
    "df_majority = df_clean[df_clean['FLAG'] == 0].sample(len(df_minority))\n",
    "df_undersampling = pd.concat([df_minority, df_majority]).reset_index()"
   ]
  },
  {
   "cell_type": "code",
   "execution_count": null,
   "id": "41e29d86",
   "metadata": {},
   "outputs": [],
   "source": [
    "# Load a copy of the dataset\n",
    "df_index = df_undersampling.copy()"
   ]
  },
  {
   "cell_type": "code",
   "execution_count": null,
   "id": "0fe5f6dd",
   "metadata": {},
   "outputs": [],
   "source": [
    "# Delete columns\n",
    "df_index.drop(['index'],axis=1,inplace=True)"
   ]
  },
  {
   "cell_type": "code",
   "execution_count": null,
   "id": "2a327110",
   "metadata": {},
   "outputs": [],
   "source": [
    "# Load a copy of the dataset\n",
    "df_filtered = df_index.copy()"
   ]
  },
  {
   "cell_type": "code",
   "execution_count": null,
   "id": "3d258f45",
   "metadata": {},
   "outputs": [],
   "source": [
    "# Drop the target column that has no null values to perform imputation\n",
    "df_filtered.drop(['FLAG'],axis=1,inplace=True)"
   ]
  },
  {
   "cell_type": "code",
   "execution_count": null,
   "id": "0545fd95",
   "metadata": {},
   "outputs": [],
   "source": [
    "# Impute the data with respect to 5 neighbors\n",
    "imputer = KNNImputer(n_neighbors=5)\n",
    "imputed = imputer.fit_transform(df_filtered)\n",
    "imputed.shape"
   ]
  },
  {
   "cell_type": "code",
   "execution_count": null,
   "id": "7b65f85a",
   "metadata": {},
   "outputs": [],
   "source": [
    "# Create a new dataset with the imputed data\n",
    "df_imputed = pd.DataFrame(imputed, columns=df_filtered.columns)"
   ]
  },
  {
   "cell_type": "code",
   "execution_count": null,
   "id": "b4d8d8fd",
   "metadata": {},
   "outputs": [],
   "source": [
    "# Copy of the inputed dataset\n",
    "df_low = df_imputed.copy()"
   ]
  },
  {
   "cell_type": "code",
   "execution_count": null,
   "id": "76d3b3aa",
   "metadata": {},
   "outputs": [],
   "source": [
    "# Add the FLAG column again\n",
    "df_low['FLAG'] = df_undersampling['FLAG']"
   ]
  },
  {
   "cell_type": "code",
   "execution_count": null,
   "id": "10f257a8",
   "metadata": {},
   "outputs": [],
   "source": [
    "# Splitting the data from the label\n",
    "X = df_low.drop(['FLAG'], axis=1)\n",
    "y = df_low['FLAG']"
   ]
  },
  {
   "cell_type": "code",
   "execution_count": null,
   "id": "c6b6ab2c",
   "metadata": {},
   "outputs": [],
   "source": [
    "# Splitting the training data from the testing data\n",
    "X_train, X_test, y_train, y_test = train_test_split(X, y, test_size=0.2, random_state=42)"
   ]
  },
  {
   "cell_type": "code",
   "execution_count": null,
   "id": "b2b58021",
   "metadata": {},
   "outputs": [],
   "source": [
    "# Initialize a Gradient Boosting\n",
    "gb = GradientBoostingClassifier(random_state=42)\n",
    "\n",
    "# Define the parameter grid to explore\n",
    "param_grid = {'n_estimators': [50],'max_depth': [5],'min_samples_split': [2]}\n",
    "\n",
    "# Initialize the GridSearchCV object for Gradient Boosting\n",
    "grid_search_gb = GridSearchCV(estimator=gb, param_grid=param_grid, scoring='recall', cv=3, n_jobs=-1)\n",
    "\n",
    "# Fit the model to the training data\n",
    "grid_search_gb.fit(X_train, y_train)\n",
    "\n",
    "y_pred_gb = best_gb.predict(X_test)"
   ]
  }
 ],
 "metadata": {
  "kernelspec": {
   "display_name": "Python 3 (ipykernel)",
   "language": "python",
   "name": "python3"
  },
  "language_info": {
   "codemirror_mode": {
    "name": "ipython",
    "version": 3
   },
   "file_extension": ".py",
   "mimetype": "text/x-python",
   "name": "python",
   "nbconvert_exporter": "python",
   "pygments_lexer": "ipython3",
   "version": "3.10.9"
  }
 },
 "nbformat": 4,
 "nbformat_minor": 5
}
